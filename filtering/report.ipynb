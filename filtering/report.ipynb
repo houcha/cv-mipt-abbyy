{
 "cells": [
  {
   "cell_type": "code",
   "execution_count": 86,
   "id": "490aedfd-9f46-4a58-8318-6fdf26791372",
   "metadata": {},
   "outputs": [],
   "source": [
    "import cv2 as cv\n",
    "import numpy as np\n",
    "import sys\n",
    "import os\n",
    "import subprocess"
   ]
  },
  {
   "cell_type": "markdown",
   "id": "0c1756d5-2611-4d10-af39-6d9587d671b6",
   "metadata": {},
   "source": [
    "## Compare with OpenCV"
   ]
  },
  {
   "cell_type": "code",
   "execution_count": 87,
   "id": "51e8076f-6956-4cdf-91aa-c7de2dae2339",
   "metadata": {},
   "outputs": [],
   "source": [
    "def assert_img_equal(filter_img, opencv_img):\n",
    "    assert filter_img.shape == opencv_img.shape, f\"{filter_img.shape} != {opencv_img.shape}\"\n",
    "\n",
    "    difference = cv.subtract(filter_img, opencv_img)\n",
    "    b, g, r = cv.split(difference)\n",
    "\n",
    "    assert cv.countNonZero(b) == 0, f\"differs by {cv.countNonZero(b)}\"\n",
    "    assert cv.countNonZero(g) == 0, f\"differs by {cv.countNonZero(g)}\"\n",
    "    assert cv.countNonZero(r) == 0, f\"differs by {cv.countNonZero(r)}\"    "
   ]
  },
  {
   "cell_type": "code",
   "execution_count": 90,
   "id": "4c0f3192-a6c7-416c-a6e0-343dea018f1c",
   "metadata": {},
   "outputs": [],
   "source": [
    "def exec_filtering(img_name, algorithm, window_radius):\n",
    "    filtered = f\"img/{img_name}_{algorithm}_{window_radius}.jpg\"\n",
    "\n",
    "    args = [\"./Filtering\", f\"img/{img_name}.jpg\", filtered, f\"--{algorithm}\", f\"{window_radius}\"]\n",
    "    subprocess.run(args, shell=False)\n",
    "    \n",
    "    return filtered"
   ]
  },
  {
   "cell_type": "code",
   "execution_count": 91,
   "id": "4267c4d4-1236-4541-a37f-2a0fd78fe481",
   "metadata": {},
   "outputs": [
    {
     "name": "stdout",
     "output_type": "stream",
     "text": [
      "naive\n"
     ]
    }
   ],
   "source": [
    "original = \"chinese_keys\"\n",
    "window_radius = 10\n",
    "\n",
    "for algorithm in ['naive']:#, 'huang', 'fast']:\n",
    "    print(algorithm)\n",
    "    filter_img = cv.imread(exec_filtering(original, algorithm, window_radius))\n",
    "    opencv_img = cv.imread(exec_filtering(original, \"opencv\", window_radius))\n",
    "\n",
    "    assert_img_equal(filter_img, opencv_img)"
   ]
  },
  {
   "cell_type": "markdown",
   "id": "14101783-5299-4a79-9751-ebceef45a385",
   "metadata": {},
   "source": [
    "## Performance"
   ]
  },
  {
   "cell_type": "code",
   "execution_count": 96,
   "id": "b894a919-9ec7-4530-b9d6-ce943edc1423",
   "metadata": {},
   "outputs": [
    {
     "data": {
      "image/png": "[encoded data removed]",
      "text/plain": [
       "<Figure size 432x288 with 1 Axes>"
      ]
     },
     "metadata": {
      "needs_background": "light"
     },
     "output_type": "display_data"
    }
   ],
   "source": [
    "import matplotlib.pyplot as plt\n",
    "import timeit\n",
    "\n",
    "timeline = np.arange(5, 100, 5)\n",
    "\n",
    "times = {}\n",
    "\n",
    "for algorithm in ['opencv']: #, 'huang', 'fast']:\n",
    "    times[algorithm] = []\n",
    "    \n",
    "    for window_radius in timeline:\n",
    "        start = timeit.timeit()\n",
    "        exec_filtering(original, algorithm, window_radius)\n",
    "        end = timeit.timeit()\n",
    "        \n",
    "        times[algorithm].append(end - start)\n",
    "        \n",
    "    plt.plot(timeline, times[algorithm])"
   ]
  },
  {
   "cell_type": "code",
   "execution_count": null,
   "id": "ef603055-bc4a-42af-800c-bafc58988608",
   "metadata": {},
   "outputs": [],
   "source": []
  }
 ],
 "metadata": {
  "kernelspec": {
   "display_name": "Python 3",
   "language": "python",
   "name": "python3"
  },
  "language_info": {
   "codemirror_mode": {
    "name": "ipython",
    "version": 3
   },
   "file_extension": ".py",
   "mimetype": "text/x-python",
   "name": "python",
   "nbconvert_exporter": "python",
   "pygments_lexer": "ipython3",
   "version": "3.8.8"
  }
 },
 "nbformat": 4,
 "nbformat_minor": 5
}
